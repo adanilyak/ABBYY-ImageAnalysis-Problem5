{
 "cells": [
  {
   "cell_type": "code",
   "execution_count": 2,
   "metadata": {
    "collapsed": false,
    "deletable": true,
    "editable": true
   },
   "outputs": [],
   "source": [
    "import cv2\n",
    "%matplotlib inline\n",
    "import matplotlib.pyplot as plt\n",
    "import numpy as np\n",
    "import time"
   ]
  },
  {
   "cell_type": "code",
   "execution_count": 3,
   "metadata": {
    "collapsed": true,
    "deletable": true,
    "editable": true
   },
   "outputs": [],
   "source": [
    "# Видео поток\n",
    "# ipython notebook должен лежать в папке с картинками\n",
    "\n",
    "videoCapture = cv2.VideoCapture(\"%02d.tif\")"
   ]
  },
  {
   "cell_type": "code",
   "execution_count": 4,
   "metadata": {
    "collapsed": true,
    "deletable": true,
    "editable": true
   },
   "outputs": [],
   "source": [
    "# Считывание кадра\n",
    "\n",
    "def readFrame(videoCapture):\n",
    "    retVal, frame = videoCapture.read()\n",
    "    if retVal == False:\n",
    "        return False, None\n",
    "    else:\n",
    "        # Так как видео уже в grayscale, то нужно просто дропнуть лишние каналы\n",
    "        frameGray, _, _ = cv2.split(frame)\n",
    "        return True, frameGray"
   ]
  },
  {
   "cell_type": "code",
   "execution_count": 7,
   "metadata": {
    "collapsed": false,
    "deletable": true,
    "editable": true
   },
   "outputs": [
    {
     "ename": "AttributeError",
     "evalue": "'module' object has no attribute 'GFTTDetector_create'",
     "output_type": "error",
     "traceback": [
      "\u001b[0;31m---------------------------------------------------------------------------\u001b[0m",
      "\u001b[0;31mAttributeError\u001b[0m                            Traceback (most recent call last)",
      "\u001b[0;32m<ipython-input-7-9cdf61d09556>\u001b[0m in \u001b[0;36m<module>\u001b[0;34m()\u001b[0m\n\u001b[1;32m      1\u001b[0m \u001b[0;31m# SHI TOMASI\u001b[0m\u001b[0;34m\u001b[0m\u001b[0;34m\u001b[0m\u001b[0m\n\u001b[1;32m      2\u001b[0m \u001b[0;34m\u001b[0m\u001b[0m\n\u001b[0;32m----> 3\u001b[0;31m \u001b[0mshiTomasiDetector\u001b[0m \u001b[0;34m=\u001b[0m \u001b[0mcv2\u001b[0m\u001b[0;34m.\u001b[0m\u001b[0mGFTTDetector_create\u001b[0m\u001b[0;34m(\u001b[0m\u001b[0;34m)\u001b[0m\u001b[0;34m\u001b[0m\u001b[0m\n\u001b[0m\u001b[1;32m      4\u001b[0m \u001b[0mdescriptor\u001b[0m \u001b[0;34m=\u001b[0m \u001b[0mcv2\u001b[0m\u001b[0;34m.\u001b[0m\u001b[0mxfeatures2d\u001b[0m\u001b[0;34m.\u001b[0m\u001b[0mFREAK_create\u001b[0m\u001b[0;34m(\u001b[0m\u001b[0;34m)\u001b[0m\u001b[0;34m\u001b[0m\u001b[0m\n\u001b[1;32m      5\u001b[0m \u001b[0;32mdef\u001b[0m \u001b[0mshitomasi\u001b[0m\u001b[0;34m(\u001b[0m\u001b[0mframe\u001b[0m\u001b[0;34m)\u001b[0m\u001b[0;34m:\u001b[0m\u001b[0;34m\u001b[0m\u001b[0m\n",
      "\u001b[0;31mAttributeError\u001b[0m: 'module' object has no attribute 'GFTTDetector_create'"
     ]
    }
   ],
   "source": [
    "# SHI TOMASI\n",
    "\n",
    "shiTomasiDetector = cv2.GFTTDetector_create()\n",
    "descriptor = cv2.xfeatures2d.FREAK_create()\n",
    "def shitomasi(frame):\n",
    "    kp = shiTomasiDetector.detect(frame)\n",
    "    return descriptor.compute(frame, kp)"
   ]
  },
  {
   "cell_type": "code",
   "execution_count": 5,
   "metadata": {
    "collapsed": false,
    "deletable": true,
    "editable": true
   },
   "outputs": [],
   "source": [
    "# BRISK\n",
    "\n",
    "briskDetector = cv2.BRISK_create()\n",
    "def brisk(frame):\n",
    "    kp = briskDetector.detect(frame)\n",
    "    return briskDetector.compute(frame, kp)"
   ]
  },
  {
   "cell_type": "code",
   "execution_count": 6,
   "metadata": {
    "collapsed": false,
    "deletable": true,
    "editable": true
   },
   "outputs": [],
   "source": [
    "# SIFT\n",
    "\n",
    "siftDetector = cv2.xfeatures2d.SIFT_create()\n",
    "def sift(frame):\n",
    "    kp = siftDetector.detect(frame)\n",
    "    return siftDetector.compute(frame, kp)"
   ]
  },
  {
   "cell_type": "code",
   "execution_count": 7,
   "metadata": {
    "collapsed": false,
    "deletable": true,
    "editable": true
   },
   "outputs": [],
   "source": [
    "# Save Keypoints to image\n",
    "\n",
    "def save(keypoints, label, frame, frameIdx):\n",
    "    img = cv2.drawKeypoints(frame, keypoints, 0, color=(0,255,0), flags=0)\n",
    "    cv2.imwrite(label + \"/\" + str(frameIdx) + \".png\", img)"
   ]
  },
  {
   "cell_type": "code",
   "execution_count": 8,
   "metadata": {
    "collapsed": true,
    "deletable": true,
    "editable": true
   },
   "outputs": [],
   "source": [
    "shitomasiLabel = \"shitomasi\"\n",
    "briskLabel = \"brisk\"\n",
    "siftLabel = \"sift\""
   ]
  },
  {
   "cell_type": "code",
   "execution_count": 9,
   "metadata": {
    "collapsed": false,
    "deletable": true,
    "editable": true
   },
   "outputs": [],
   "source": [
    "#bf = cv2.BFMatcher(cv2.NORM_HAMMING, crossCheck = False)\n",
    "\n",
    "#index_params = dict(algorithm = 0, trees = 5)\n",
    "index_params= dict(algorithm = 6, table_number = 6, key_size = 12, multi_probe_level = 1)\n",
    "search_params = dict(checks = 50)\n",
    "matcher = cv2.FlannBasedMatcher(index_params, search_params)\n",
    "\n",
    "def ratioOfMatchingDescriptors(desc1, desc2, idx):\n",
    "    matches = matcher.match(desc1, desc2)\n",
    "    return len(matches) / (len(desc1) + len(desc2)), str(idx)\n",
    "\n",
    "def createPlotFromAllDescriptors(allDesc1, allDesc2, label):\n",
    "    N = len(allDesc1)\n",
    "    \n",
    "    ratios = [ratioOfMatchingDescriptors(d1, d2, 0) for d1, d2 in zip(allDesc1, allDesc2)]\n",
    "    print(ratios)\n",
    "    #plt.plot(range(1, N + 1), elapsedTime)\n",
    "   # plt.ylabel('время, c')\n",
    "    #plt.xlabel('кадр')\n",
    "   # plt.axis([1, 12, 0, 0.015])\n",
    "   # plt.show()"
   ]
  },
  {
   "cell_type": "code",
   "execution_count": 10,
   "metadata": {
    "collapsed": true,
    "deletable": true,
    "editable": true
   },
   "outputs": [],
   "source": [
    "def processFrames(videoCapture):\n",
    "    shitomasiAllDesc = []\n",
    "    briskAllDesc = []\n",
    "    siftAllDesc = []\n",
    "    \n",
    "    idx = 0\n",
    "    while(True):\n",
    "        idx += 1\n",
    "        retVal, frame = readFrame(videoCapture)\n",
    "        if retVal == False:\n",
    "            break\n",
    "        \n",
    "        print(idx)\n",
    "        \n",
    "        shitomasiKP, shitomasiDesc = shitomasi(frame)\n",
    "        save(shitomasiKP, shitomasiLabel, frame, idx)\n",
    "        \n",
    "        briskKP, briskDesc = brisk(frame)\n",
    "        save(briskKP, briskLabel, frame, idx)\n",
    "        \n",
    "        siftKP, siftDesc = sift(frame)\n",
    "        save(siftKP, siftLabel, frame, idx)\n",
    "        \n",
    "        shitomasiAllDesc.append(shitomasiDesc)\n",
    "        briskAllDesc.append(briskDesc)\n",
    "        siftAllDesc.append(siftDesc)\n",
    "        \n",
    "    createPlotFromAllDescriptors(shitomasiAllDesc, shitomasiAllDesc, shitomasiLabel + briskLabel)\n",
    "    createPlotFromAllDescriptors(shitomasiAllDesc, siftAllDesc, shitomasiLabel + siftLabel)\n",
    "    createPlotFromAllDescriptors(siftAllDesc, briskAllDesc, siftLabel + briskLabel)"
   ]
  },
  {
   "cell_type": "code",
   "execution_count": 11,
   "metadata": {
    "collapsed": false,
    "deletable": true,
    "editable": true
   },
   "outputs": [
    {
     "name": "stdout",
     "output_type": "stream",
     "text": [
      "1\n",
      "2\n",
      "3\n",
      "4\n",
      "5\n",
      "6\n",
      "7\n",
      "8\n",
      "9\n",
      "10\n",
      "11\n",
      "12\n"
     ]
    },
    {
     "ename": "error",
     "evalue": "/Users/jenkins/miniconda/1/x64/conda-bld/conda_1486587097465/work/opencv-3.1.0/modules/python/src2/cv2.cpp:163: error: (-215) The data should normally be NULL! in function allocate\n",
     "output_type": "error",
     "traceback": [
      "\u001b[0;31m---------------------------------------------------------------------------\u001b[0m",
      "\u001b[0;31merror\u001b[0m                                     Traceback (most recent call last)",
      "\u001b[0;32m<ipython-input-11-2ad2108ca37b>\u001b[0m in \u001b[0;36m<module>\u001b[0;34m()\u001b[0m\n\u001b[0;32m----> 1\u001b[0;31m \u001b[0mprocessFrames\u001b[0m\u001b[0;34m(\u001b[0m\u001b[0mvideoCapture\u001b[0m\u001b[0;34m)\u001b[0m\u001b[0;34m\u001b[0m\u001b[0m\n\u001b[0m",
      "\u001b[0;32m<ipython-input-10-30fee0da4a07>\u001b[0m in \u001b[0;36mprocessFrames\u001b[0;34m(videoCapture)\u001b[0m\n\u001b[1;32m     26\u001b[0m         \u001b[0msiftAllDesc\u001b[0m\u001b[0;34m.\u001b[0m\u001b[0mappend\u001b[0m\u001b[0;34m(\u001b[0m\u001b[0msiftDesc\u001b[0m\u001b[0;34m)\u001b[0m\u001b[0;34m\u001b[0m\u001b[0m\n\u001b[1;32m     27\u001b[0m \u001b[0;34m\u001b[0m\u001b[0m\n\u001b[0;32m---> 28\u001b[0;31m     \u001b[0mcreatePlotFromAllDescriptors\u001b[0m\u001b[0;34m(\u001b[0m\u001b[0mshitomasiAllDesc\u001b[0m\u001b[0;34m,\u001b[0m \u001b[0mshitomasiAllDesc\u001b[0m\u001b[0;34m,\u001b[0m \u001b[0mshitomasiLabel\u001b[0m \u001b[0;34m+\u001b[0m \u001b[0mbriskLabel\u001b[0m\u001b[0;34m)\u001b[0m\u001b[0;34m\u001b[0m\u001b[0m\n\u001b[0m\u001b[1;32m     29\u001b[0m     \u001b[0mcreatePlotFromAllDescriptors\u001b[0m\u001b[0;34m(\u001b[0m\u001b[0mshitomasiAllDesc\u001b[0m\u001b[0;34m,\u001b[0m \u001b[0msiftAllDesc\u001b[0m\u001b[0;34m,\u001b[0m \u001b[0mshitomasiLabel\u001b[0m \u001b[0;34m+\u001b[0m \u001b[0msiftLabel\u001b[0m\u001b[0;34m)\u001b[0m\u001b[0;34m\u001b[0m\u001b[0m\n\u001b[1;32m     30\u001b[0m     \u001b[0mcreatePlotFromAllDescriptors\u001b[0m\u001b[0;34m(\u001b[0m\u001b[0msiftAllDesc\u001b[0m\u001b[0;34m,\u001b[0m \u001b[0mbriskAllDesc\u001b[0m\u001b[0;34m,\u001b[0m \u001b[0msiftLabel\u001b[0m \u001b[0;34m+\u001b[0m \u001b[0mbriskLabel\u001b[0m\u001b[0;34m)\u001b[0m\u001b[0;34m\u001b[0m\u001b[0m\n",
      "\u001b[0;32m<ipython-input-9-84deafda8f1d>\u001b[0m in \u001b[0;36mcreatePlotFromAllDescriptors\u001b[0;34m(allDesc1, allDesc2, label)\u001b[0m\n\u001b[1;32m     13\u001b[0m     \u001b[0mN\u001b[0m \u001b[0;34m=\u001b[0m \u001b[0mlen\u001b[0m\u001b[0;34m(\u001b[0m\u001b[0mallDesc1\u001b[0m\u001b[0;34m)\u001b[0m\u001b[0;34m\u001b[0m\u001b[0m\n\u001b[1;32m     14\u001b[0m \u001b[0;34m\u001b[0m\u001b[0m\n\u001b[0;32m---> 15\u001b[0;31m     \u001b[0mratios\u001b[0m \u001b[0;34m=\u001b[0m \u001b[0;34m[\u001b[0m\u001b[0mratioOfMatchingDescriptors\u001b[0m\u001b[0;34m(\u001b[0m\u001b[0md1\u001b[0m\u001b[0;34m,\u001b[0m \u001b[0md2\u001b[0m\u001b[0;34m,\u001b[0m \u001b[0;36m0\u001b[0m\u001b[0;34m)\u001b[0m \u001b[0;32mfor\u001b[0m \u001b[0md1\u001b[0m\u001b[0;34m,\u001b[0m \u001b[0md2\u001b[0m \u001b[0;32min\u001b[0m \u001b[0mzip\u001b[0m\u001b[0;34m(\u001b[0m\u001b[0mallDesc1\u001b[0m\u001b[0;34m,\u001b[0m \u001b[0mallDesc2\u001b[0m\u001b[0;34m)\u001b[0m\u001b[0;34m]\u001b[0m\u001b[0;34m\u001b[0m\u001b[0m\n\u001b[0m\u001b[1;32m     16\u001b[0m     \u001b[0mprint\u001b[0m\u001b[0;34m(\u001b[0m\u001b[0mratios\u001b[0m\u001b[0;34m)\u001b[0m\u001b[0;34m\u001b[0m\u001b[0m\n\u001b[1;32m     17\u001b[0m     \u001b[0;31m#plt.plot(range(1, N + 1), elapsedTime)\u001b[0m\u001b[0;34m\u001b[0m\u001b[0;34m\u001b[0m\u001b[0m\n",
      "\u001b[0;32m<ipython-input-9-84deafda8f1d>\u001b[0m in \u001b[0;36m<listcomp>\u001b[0;34m(.0)\u001b[0m\n\u001b[1;32m     13\u001b[0m     \u001b[0mN\u001b[0m \u001b[0;34m=\u001b[0m \u001b[0mlen\u001b[0m\u001b[0;34m(\u001b[0m\u001b[0mallDesc1\u001b[0m\u001b[0;34m)\u001b[0m\u001b[0;34m\u001b[0m\u001b[0m\n\u001b[1;32m     14\u001b[0m \u001b[0;34m\u001b[0m\u001b[0m\n\u001b[0;32m---> 15\u001b[0;31m     \u001b[0mratios\u001b[0m \u001b[0;34m=\u001b[0m \u001b[0;34m[\u001b[0m\u001b[0mratioOfMatchingDescriptors\u001b[0m\u001b[0;34m(\u001b[0m\u001b[0md1\u001b[0m\u001b[0;34m,\u001b[0m \u001b[0md2\u001b[0m\u001b[0;34m,\u001b[0m \u001b[0;36m0\u001b[0m\u001b[0;34m)\u001b[0m \u001b[0;32mfor\u001b[0m \u001b[0md1\u001b[0m\u001b[0;34m,\u001b[0m \u001b[0md2\u001b[0m \u001b[0;32min\u001b[0m \u001b[0mzip\u001b[0m\u001b[0;34m(\u001b[0m\u001b[0mallDesc1\u001b[0m\u001b[0;34m,\u001b[0m \u001b[0mallDesc2\u001b[0m\u001b[0;34m)\u001b[0m\u001b[0;34m]\u001b[0m\u001b[0;34m\u001b[0m\u001b[0m\n\u001b[0m\u001b[1;32m     16\u001b[0m     \u001b[0mprint\u001b[0m\u001b[0;34m(\u001b[0m\u001b[0mratios\u001b[0m\u001b[0;34m)\u001b[0m\u001b[0;34m\u001b[0m\u001b[0m\n\u001b[1;32m     17\u001b[0m     \u001b[0;31m#plt.plot(range(1, N + 1), elapsedTime)\u001b[0m\u001b[0;34m\u001b[0m\u001b[0;34m\u001b[0m\u001b[0m\n",
      "\u001b[0;32m<ipython-input-9-84deafda8f1d>\u001b[0m in \u001b[0;36mratioOfMatchingDescriptors\u001b[0;34m(desc1, desc2, idx)\u001b[0m\n\u001b[1;32m      7\u001b[0m \u001b[0;34m\u001b[0m\u001b[0m\n\u001b[1;32m      8\u001b[0m \u001b[0;32mdef\u001b[0m \u001b[0mratioOfMatchingDescriptors\u001b[0m\u001b[0;34m(\u001b[0m\u001b[0mdesc1\u001b[0m\u001b[0;34m,\u001b[0m \u001b[0mdesc2\u001b[0m\u001b[0;34m,\u001b[0m \u001b[0midx\u001b[0m\u001b[0;34m)\u001b[0m\u001b[0;34m:\u001b[0m\u001b[0;34m\u001b[0m\u001b[0m\n\u001b[0;32m----> 9\u001b[0;31m     \u001b[0mmatches\u001b[0m \u001b[0;34m=\u001b[0m \u001b[0mmatcher\u001b[0m\u001b[0;34m.\u001b[0m\u001b[0mmatch\u001b[0m\u001b[0;34m(\u001b[0m\u001b[0mdesc1\u001b[0m\u001b[0;34m,\u001b[0m \u001b[0mdesc2\u001b[0m\u001b[0;34m)\u001b[0m\u001b[0;34m\u001b[0m\u001b[0m\n\u001b[0m\u001b[1;32m     10\u001b[0m     \u001b[0;32mreturn\u001b[0m \u001b[0mlen\u001b[0m\u001b[0;34m(\u001b[0m\u001b[0mmatches\u001b[0m\u001b[0;34m)\u001b[0m \u001b[0;34m/\u001b[0m \u001b[0;34m(\u001b[0m\u001b[0mlen\u001b[0m\u001b[0;34m(\u001b[0m\u001b[0mdesc1\u001b[0m\u001b[0;34m)\u001b[0m \u001b[0;34m+\u001b[0m \u001b[0mlen\u001b[0m\u001b[0;34m(\u001b[0m\u001b[0mdesc2\u001b[0m\u001b[0;34m)\u001b[0m\u001b[0;34m)\u001b[0m\u001b[0;34m,\u001b[0m \u001b[0mstr\u001b[0m\u001b[0;34m(\u001b[0m\u001b[0midx\u001b[0m\u001b[0;34m)\u001b[0m\u001b[0;34m\u001b[0m\u001b[0m\n\u001b[1;32m     11\u001b[0m \u001b[0;34m\u001b[0m\u001b[0m\n",
      "\u001b[0;31merror\u001b[0m: /Users/jenkins/miniconda/1/x64/conda-bld/conda_1486587097465/work/opencv-3.1.0/modules/python/src2/cv2.cpp:163: error: (-215) The data should normally be NULL! in function allocate\n"
     ]
    }
   ],
   "source": [
    "processFrames(videoCapture)"
   ]
  },
  {
   "cell_type": "code",
   "execution_count": null,
   "metadata": {
    "collapsed": true,
    "deletable": true,
    "editable": true
   },
   "outputs": [],
   "source": []
  }
 ],
 "metadata": {
  "kernelspec": {
   "display_name": "Python 2",
   "language": "python",
   "name": "python2"
  },
  "language_info": {
   "codemirror_mode": {
    "name": "ipython",
    "version": 2
   },
   "file_extension": ".py",
   "mimetype": "text/x-python",
   "name": "python",
   "nbconvert_exporter": "python",
   "pygments_lexer": "ipython2",
   "version": "2.7.13"
  }
 },
 "nbformat": 4,
 "nbformat_minor": 0
}
