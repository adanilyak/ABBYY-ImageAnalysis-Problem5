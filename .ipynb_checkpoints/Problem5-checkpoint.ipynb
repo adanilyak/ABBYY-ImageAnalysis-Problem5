{
 "cells": [
  {
   "cell_type": "code",
   "execution_count": 1,
   "metadata": {
    "collapsed": true
   },
   "outputs": [],
   "source": [
    "import cv2\n",
    "%matplotlib inline\n",
    "import matplotlib.pyplot as plt\n",
    "import numpy as np\n",
    "import time"
   ]
  },
  {
   "cell_type": "code",
   "execution_count": 2,
   "metadata": {
    "collapsed": true
   },
   "outputs": [],
   "source": [
    "# Видео поток\n",
    "# ipython notebook должен лежать в папке с картинками\n",
    "\n",
    "videoCapture = cv2.VideoCapture(\"%02d.tif\")"
   ]
  },
  {
   "cell_type": "code",
   "execution_count": 3,
   "metadata": {
    "collapsed": true
   },
   "outputs": [],
   "source": [
    "# Считывание кадра\n",
    "\n",
    "def readFrame(videoCapture):\n",
    "    retVal, frame = videoCapture.read()\n",
    "    if retVal == False:\n",
    "        return False, None\n",
    "    else:\n",
    "        # Так как видео уже в grayscale, то нужно просто дропнуть лишние каналы\n",
    "        frameGray, _, _ = cv2.split(frame)\n",
    "        return True, frameGray"
   ]
  },
  {
   "cell_type": "code",
   "execution_count": 19,
   "metadata": {
    "collapsed": false
   },
   "outputs": [],
   "source": [
    "# SHI TOMASI\n",
    "\n",
    "shiTomasiDetection = cv2.GFTTDetector_create()\n",
    "def shitomasi(frame):\n",
    "    kp = shiTomasiDetection.detect(frame)\n",
    "    return shiTomasiDetection.compute(frame, kp)"
   ]
  },
  {
   "cell_type": "code",
   "execution_count": 15,
   "metadata": {
    "collapsed": false
   },
   "outputs": [],
   "source": [
    "# BRISK\n",
    "\n",
    "briskDetector = cv2.BRISK_create()\n",
    "def brisk(frame):\n",
    "    kp = briskDetector.detect(frame)\n",
    "    return briskDetector.compute(frame, kp)"
   ]
  },
  {
   "cell_type": "code",
   "execution_count": 17,
   "metadata": {
    "collapsed": false
   },
   "outputs": [],
   "source": [
    "# SIFT\n",
    "\n",
    "siftDetector = cv2.xfeatures2d.SIFT_create()\n",
    "def sift(frame):\n",
    "    kp = siftDetector.detect(frame)\n",
    "    return siftDetector.compute(frame, kp)"
   ]
  },
  {
   "cell_type": "code",
   "execution_count": 7,
   "metadata": {
    "collapsed": false
   },
   "outputs": [],
   "source": [
    "# Save Keypoints to image\n",
    "\n",
    "def save(keypoints, label, frame, frameIdx):\n",
    "    img = cv2.drawKeypoints(frame, keypoints, 0, color=(0,255,0), flags=0)\n",
    "    cv2.imwrite(label + \"/\" + str(frameIdx) + \".png\", img)"
   ]
  },
  {
   "cell_type": "code",
   "execution_count": null,
   "metadata": {
    "collapsed": true
   },
   "outputs": [],
   "source": [
    "shitomasiLabel = \"shitomasi\"\n",
    "briskLabel = \"brisk\"\n",
    "siftLabel = \"sift\""
   ]
  },
  {
   "cell_type": "code",
   "execution_count": null,
   "metadata": {
    "collapsed": true
   },
   "outputs": [],
   "source": [
    "bf = cv2.BFMatcher(cv2.NORM_HAMMING, crossCheck=True)\n",
    "def ratioOfMatchingDescriptors(desc1, desc2, label1, label2):\n",
    "    matches = bf.match(desc1, desc2)\n",
    "    return len(matches) / (len(desc1) + len(desc2)), str(label1 + \"-\" + label2)"
   ]
  },
  {
   "cell_type": "code",
   "execution_count": 20,
   "metadata": {
    "collapsed": true
   },
   "outputs": [],
   "source": [
    "def processFrames(videoCapture):\n",
    "    idx = 0\n",
    "    while(True):\n",
    "        idx += 1\n",
    "        retVal, frame = readFrame(videoCapture)\n",
    "        if retVal == False:\n",
    "            break\n",
    "            \n",
    "        shitomasiKP, shitomasiDesc = shitomasi(frame)\n",
    "        save(shitomasiKP, shitomasiLabel, frame, idx)\n",
    "        \n",
    "        briskKP, briskDesc = brisk(frame)\n",
    "        save(briskKP, briskLabel, frame, idx)\n",
    "        \n",
    "        siftKP, siftDesc = sift(frame)\n",
    "        save(siftKP, siftLabel, frame, idx)"
   ]
  },
  {
   "cell_type": "code",
   "execution_count": 21,
   "metadata": {
    "collapsed": false
   },
   "outputs": [],
   "source": [
    "processFrames(videoCapture)"
   ]
  },
  {
   "cell_type": "code",
   "execution_count": null,
   "metadata": {
    "collapsed": true
   },
   "outputs": [],
   "source": []
  }
 ],
 "metadata": {
  "kernelspec": {
   "display_name": "Python 3",
   "language": "python",
   "name": "python3"
  },
  "language_info": {
   "codemirror_mode": {
    "name": "ipython",
    "version": 3
   },
   "file_extension": ".py",
   "mimetype": "text/x-python",
   "name": "python",
   "nbconvert_exporter": "python",
   "pygments_lexer": "ipython3",
   "version": "3.5.3"
  }
 },
 "nbformat": 4,
 "nbformat_minor": 2
}
