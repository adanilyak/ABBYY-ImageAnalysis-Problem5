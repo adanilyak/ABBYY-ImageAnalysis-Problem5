{
 "cells": [
  {
   "cell_type": "code",
   "execution_count": 1,
   "metadata": {
    "collapsed": false,
    "deletable": true,
    "editable": true
   },
   "outputs": [],
   "source": [
    "import cv2\n",
    "%matplotlib inline\n",
    "import matplotlib.pyplot as plt\n",
    "import numpy as np\n",
    "import time"
   ]
  },
  {
   "cell_type": "code",
   "execution_count": 2,
   "metadata": {
    "collapsed": true,
    "deletable": true,
    "editable": true
   },
   "outputs": [],
   "source": [
    "# Видео поток\n",
    "# ipython notebook должен лежать в папке с картинками\n",
    "\n",
    "videoCapture = cv2.VideoCapture(\"%02d.tif\")"
   ]
  },
  {
   "cell_type": "code",
   "execution_count": 3,
   "metadata": {
    "collapsed": true,
    "deletable": true,
    "editable": true
   },
   "outputs": [],
   "source": [
    "# Считывание кадра\n",
    "\n",
    "def readFrame(videoCapture):\n",
    "    retVal, frame = videoCapture.read()\n",
    "    if retVal == False:\n",
    "        return False, None\n",
    "    else:\n",
    "        # Так как видео уже в grayscale, то нужно просто дропнуть лишние каналы\n",
    "        frameGray, _, _ = cv2.split(frame)\n",
    "        return True, frameGray"
   ]
  },
  {
   "cell_type": "code",
   "execution_count": 4,
   "metadata": {
    "collapsed": false,
    "deletable": true,
    "editable": true
   },
   "outputs": [],
   "source": [
    "# SHI TOMASI\n",
    "\n",
    "shiTomasiDetector = cv2.FeatureDetector_create(\"GFTT\")\n",
    "descriptor = cv2.DescriptorExtractor_create('FREAK')\n",
    "def shitomasi(frame):\n",
    "    kp = shiTomasiDetector.detect(frame)\n",
    "    return descriptor.compute(frame, kp)"
   ]
  },
  {
   "cell_type": "code",
   "execution_count": 5,
   "metadata": {
    "collapsed": false,
    "deletable": true,
    "editable": true
   },
   "outputs": [],
   "source": [
    "# BRISK\n",
    "\n",
    "briskDetector = cv2.FeatureDetector_create(\"BRISK\")\n",
    "def brisk(frame):\n",
    "    kp = briskDetector.detect(frame)\n",
    "    return descriptor.compute(frame, kp)"
   ]
  },
  {
   "cell_type": "code",
   "execution_count": 6,
   "metadata": {
    "collapsed": false,
    "deletable": true,
    "editable": true
   },
   "outputs": [],
   "source": [
    "# SIFT\n",
    "\n",
    "siftDetector = cv2.FeatureDetector_create(\"SIFT\")\n",
    "def sift(frame):\n",
    "    kp = siftDetector.detect(frame)\n",
    "    return descriptor.compute(frame, kp)"
   ]
  },
  {
   "cell_type": "code",
   "execution_count": 7,
   "metadata": {
    "collapsed": false,
    "deletable": true,
    "editable": true
   },
   "outputs": [],
   "source": [
    "# Save Keypoints to image\n",
    "\n",
    "def save(keypoints, label, frame, frameIdx):\n",
    "    img = cv2.drawKeypoints(frame, keypoints, 0, color=(0,255,0), flags=0)\n",
    "    cv2.imwrite(label + \"/\" + str(frameIdx) + \".png\", img)"
   ]
  },
  {
   "cell_type": "code",
   "execution_count": 8,
   "metadata": {
    "collapsed": true,
    "deletable": true,
    "editable": true
   },
   "outputs": [],
   "source": [
    "shitomasiLabel = \"shitomasi\"\n",
    "briskLabel = \"brisk\"\n",
    "siftLabel = \"sift\""
   ]
  },
  {
   "cell_type": "code",
   "execution_count": 9,
   "metadata": {
    "collapsed": false,
    "deletable": true,
    "editable": true
   },
   "outputs": [],
   "source": [
    "# Брутфорс матчер\n",
    "\n",
    "matcher = cv2.BFMatcher()\n",
    "def ratioOfMatchingDescriptors(desc1, desc2):\n",
    "    matches = matcher.match(desc1, desc2)\n",
    "    return float(len(matches)) / float(len(desc1) + len(desc2))\n",
    "\n",
    "# Рисуем графички\n",
    "\n",
    "def createPlotFromAllDescriptors(allDesc1, allDesc2, label):\n",
    "    N = len(allDesc1)\n",
    "    \n",
    "    ratios = [ratioOfMatchingDescriptors(d1, d2) for d1, d2 in zip(allDesc1, allDesc2)]\n",
    "    \n",
    "    print(ratios)\n",
    "    \n",
    "    plt.plot(range(1, N + 1), ratios)\n",
    "    plt.ylabel(label)\n",
    "    plt.xlabel('frame')\n",
    "    plt.axis([1, 12, 0.0, 1.0])\n",
    "    plt.show()"
   ]
  },
  {
   "cell_type": "code",
   "execution_count": 10,
   "metadata": {
    "collapsed": true,
    "deletable": true,
    "editable": true
   },
   "outputs": [],
   "source": [
    "def processFrames(videoCapture):\n",
    "    shitomasiAllDesc = []\n",
    "    briskAllDesc = []\n",
    "    siftAllDesc = []\n",
    "    \n",
    "    idx = 0\n",
    "    while(True):\n",
    "        idx += 1\n",
    "        retVal, frame = readFrame(videoCapture)\n",
    "        if retVal == False:\n",
    "            break\n",
    "        \n",
    "        shitomasiKP, shitomasiDesc = shitomasi(frame)\n",
    "        save(shitomasiKP, shitomasiLabel, frame, idx)\n",
    "        \n",
    "        briskKP, briskDesc = brisk(frame)\n",
    "        save(briskKP, briskLabel, frame, idx)\n",
    "        \n",
    "        siftKP, siftDesc = sift(frame)\n",
    "        save(siftKP, siftLabel, frame, idx)\n",
    "        \n",
    "        shitomasiAllDesc.append(shitomasiDesc)\n",
    "        briskAllDesc.append(briskDesc)\n",
    "        siftAllDesc.append(siftDesc)\n",
    "        \n",
    "    createPlotFromAllDescriptors(shitomasiAllDesc, briskAllDesc, shitomasiLabel + '-' + briskLabel)\n",
    "    createPlotFromAllDescriptors(shitomasiAllDesc, siftAllDesc, shitomasiLabel + '-' + siftLabel)\n",
    "    createPlotFromAllDescriptors(siftAllDesc, briskAllDesc, siftLabel + '-' + briskLabel)"
   ]
  },
  {
   "cell_type": "code",
   "execution_count": 11,
   "metadata": {
    "collapsed": false,
    "deletable": true,
    "editable": true
   },
   "outputs": [
    {
     "name": "stdout",
     "output_type": "stream",
     "text": [
      "[0.6772727272727272, 0.6910377358490566, 0.6992665036674817, 0.6996197718631179, 0.6946182728410513, 0.6846733668341709, 0.7107652399481194, 0.6769420468557337, 0.6740196078431373, 0.7032679738562092, 0.7218543046357616, 0.70875]\n"
     ]
    },
    {
     "data": {
      "image/png": "[encoded data removed]",
      "text/plain": [
       "<matplotlib.figure.Figure at 0x10b90dbd0>"
      ]
     },
     "metadata": {},
     "output_type": "display_data"
    },
    {
     "name": "stdout",
     "output_type": "stream",
     "text": [
      "[0.49378624689312345, 0.48111658456486045, 0.4750830564784053, 0.47058823529411764, 0.47680412371134023, 0.4768153980752406, 0.476107732406603, 0.48157894736842105, 0.4749568221070812, 0.4662045060658579, 0.468615649183147, 0.48586118251928023]\n"
     ]
    },
    {
     "data": {
      "image/png": "[encoded data removed]",
      "text/plain": [
       "<matplotlib.figure.Figure at 0x10ce07b10>"
      ]
     },
     "metadata": {},
     "output_type": "display_data"
    },
    {
     "name": "stdout",
     "output_type": "stream",
     "text": [
      "[0.6826815642458101, 0.7069351230425056, 0.7198177676537585, 0.7237762237762237, 0.7139507620164126, 0.7043580683156655, 0.7300242130750605, 0.6928487690504103, 0.6956521739130435, 0.730723606168446, 0.7463768115942029, 0.7202881152460985]\n"
     ]
    },
    {
     "data": {
      "image/png": "[encoded data removed]",
      "text/plain": [
       "<matplotlib.figure.Figure at 0x110cf0810>"
      ]
     },
     "metadata": {},
     "output_type": "display_data"
    }
   ],
   "source": [
    "processFrames(videoCapture)"
   ]
  }
 ],
 "metadata": {
  "kernelspec": {
   "display_name": "Python 2",
   "language": "python",
   "name": "python2"
  },
  "language_info": {
   "codemirror_mode": {
    "name": "ipython",
    "version": 2
   },
   "file_extension": ".py",
   "mimetype": "text/x-python",
   "name": "python",
   "nbconvert_exporter": "python",
   "pygments_lexer": "ipython2",
   "version": "2.7.13"
  }
 },
 "nbformat": 4,
 "nbformat_minor": 0
}
